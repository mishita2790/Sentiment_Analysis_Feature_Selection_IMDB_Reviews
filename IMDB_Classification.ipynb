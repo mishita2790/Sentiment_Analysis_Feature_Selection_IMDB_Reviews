{
 "cells": [
  {
   "cell_type": "markdown",
   "metadata": {},
   "source": [
    "# <u> Sentiment Analysis and Feature selection on a Large Movie Review Dataset </u>\n"
   ]
  },
  {
   "cell_type": "markdown",
   "metadata": {},
   "source": [
    "## <u> Data Set Description </u>"
   ]
  },
  {
   "cell_type": "markdown",
   "metadata": {},
   "source": [
    "#### <u> The source of the dataset is: http://ai.stanford.edu/~amaas/data/sentiment/\n",
    "<li><b></b> As the dataset is not a csv file, but a collection of several text files contained in sub directories. The function is written below to read file from the path to our local directory. \n",
    "<li><b></b>Both train and test dataset contains 25000 reviews respectively. "
   ]
  },
  {
   "cell_type": "markdown",
   "metadata": {},
   "source": [
    "## <u> The notebook covers the following topics:\n",
    "<li><b></b> Perform sentiment analysis using self implemented Naive Bayes and compared the accuracy with builtin multinomial naive bayes classification model. \n",
    "<li><b></b> Improving the accuracy using Logistic Regression classification model.\n",
    "<li><b></b> Perform dimensionaility reduction by doing feature selection using mutual info classifier and acheive the same accuracy as above while using reduced set of features. \n",
    "    "
   ]
  },
  {
   "cell_type": "code",
   "execution_count": 1,
   "metadata": {},
   "outputs": [],
   "source": [
    "import pandas as pd\n",
    "import io\n",
    "import re \n",
    "import random\n",
    "from collections import Counter\n",
    "import math\n",
    "from math import log \n",
    "from decimal import Decimal\n",
    "import operator\n",
    "from __future__ import division"
   ]
  },
  {
   "cell_type": "code",
   "execution_count": 2,
   "metadata": {},
   "outputs": [],
   "source": [
    "# Function to split the string on space\n",
    "def dummy_tokenizer(s):\n",
    "    return s.split()"
   ]
  },
  {
   "cell_type": "code",
   "execution_count": 3,
   "metadata": {},
   "outputs": [],
   "source": [
    "# Function to extract the vocabulary(unique words) in the text\n",
    "def extract_vocab(data):\n",
    "    vocab = set()\n",
    "    for ex in data:\n",
    "        tokens = dummy_tokenizer(ex)\n",
    "        for token in tokens:\n",
    "            if token: vocab.add(token)\n",
    "    return vocab"
   ]
  },
  {
   "cell_type": "code",
   "execution_count": 4,
   "metadata": {},
   "outputs": [],
   "source": [
    "# Function written to retreive the prior and conditional probability of the training documents\n",
    "def training(train_x, train_y, vocab):\n",
    "    prior = {}\n",
    "    cond_prob = {}\n",
    "    total_docs = len(train_x)\n",
    "    classes = set(train_y)\n",
    "    for t in vocab:\n",
    "        cond_prob[t] = {c:0 for c in classes}\n",
    "        \n",
    "    for cls in classes:\n",
    "        cls_idx_train = [i for i in range(len(train_y)) if train_y[i] == cls]\n",
    "        Nc = len(cls_idx_train)\n",
    "        prior[cls] = Nc/total_docs\n",
    "        cls_x = dummy_tokenizer(' '.join([train_x[i] for i in cls_idx_train])) \n",
    "        term_dist_cls = Counter(cls_x)\n",
    "        normalizer = len(cls_x) + len(vocab)\n",
    "        for t in vocab: \n",
    "            if t in term_dist_cls.keys():\n",
    "                cond_prob[t][cls] = (term_dist_cls[t]+1)/normalizer \n",
    "            else:\n",
    "                cond_prob[t][cls] = 1/normalizer \n",
    "        \n",
    "                \n",
    "    return prior, cond_prob "
   ]
  },
  {
   "cell_type": "code",
   "execution_count": 5,
   "metadata": {},
   "outputs": [],
   "source": [
    "# Using the learned prior, conditional probability, vocabulary and the classes(neg, pos), function is written to get the score of the\n",
    "# the test documents\n",
    "def testing(classes, vocab, prior, cond_prob, test_x) :\n",
    "    test_pred = []\n",
    "    for ex in test_x:\n",
    "        tokens = dummy_tokenizer(ex) \n",
    "        score = {cls: 1.0*math.log(prior[cls]) for cls in classes}\n",
    "        for cls in classes: \n",
    "            for t in tokens:\n",
    "                if t not in vocab:\n",
    "                    continue\n",
    "                score[cls] += log(cond_prob[t][cls]) \n",
    "        test_pred.append(max(score.items(), key = operator.itemgetter(1))[0])  \n",
    "        \n",
    "    return test_pred "
   ]
  },
  {
   "cell_type": "code",
   "execution_count": 6,
   "metadata": {},
   "outputs": [],
   "source": [
    "# Function to calculate accuracy\n",
    "def cal_accuracy(test_pred, test_y):\n",
    "    correct = 0\n",
    "    for i in range(len(test_pred)):\n",
    "        if test_pred[i] == test_y[i]:\n",
    "            correct +=1 \n",
    "    \n",
    "    return  correct*100/len(test_pred)"
   ]
  },
  {
   "cell_type": "code",
   "execution_count": 7,
   "metadata": {},
   "outputs": [],
   "source": [
    "# Function to calculate evaluation parameters such as: \"Precision, Recall, F1\"\n",
    "def cal_evaluation(test_pred, test_y):\n",
    "    TP, FP, TN, FN = [0]*4 \n",
    "    count_DES, count_IDF = 0,0\n",
    "    count = Counter(test_y)\n",
    "    #print(count)\n",
    "    for i in range(len(test_pred)):\n",
    "        if test_pred[i] == test_y[i]:\n",
    "            if test_pred[i] == \"pos\":\n",
    "                TP +=1\n",
    "            else:\n",
    "                TN +=1 \n",
    "        else: \n",
    "            if test_pred[i] == \"neg\":\n",
    "                FP +=1\n",
    "            else:\n",
    "                FN +=1    \n",
    "    \n",
    "    pr = TP/(TP+FP) \n",
    "    re = TP/(TP+FN)\n",
    "    F1 = (2*pr*re)/(pr+re)\n",
    "    pr_class2 = TN/(TN+FN) \n",
    "    re_class2 = TN/(TN+FP) \n",
    "    F1_class2 = (2*pr_class2*re_class2)/(pr_class2 + re_class2)\n",
    "    wt_pr = (count['pos'] * pr + count['neg'] * pr_class2)/len(test_y)\n",
    "    wt_re = (count['pos'] * re + count['neg'] * re_class2)/len(test_y)\n",
    "    wt_F1 = (count['pos'] * F1 + count['neg'] * F1_class2)/len(test_y)\n",
    "    return wt_pr, wt_re, wt_F1"
   ]
  },
  {
   "cell_type": "code",
   "execution_count": 8,
   "metadata": {},
   "outputs": [],
   "source": [
    "# This function reads the data from the local directory\n",
    "import os, sys\n",
    "\n",
    "def text_process(s):\n",
    "    s = s.strip().lower()   \n",
    "    s = re.sub(r'\\bhttp.+?( |$)', ' ', s)\n",
    "    s = re.sub(r'[^a-zA-Z0-9 ]', ' ', s)\n",
    "    s = re.sub(r'[0-9]', 'd', s) \n",
    "    s = re.sub(r'\\s+', ' ', s) \n",
    "    return s\n",
    "    \n",
    "# Open a file\n",
    "def read_data(path):    \n",
    "    dirs = os.listdir(path)\n",
    "    X_train, y_train, X_test, y_test = [], [], [], [] \n",
    "    for d in dirs:\n",
    "        if d != 'train' and d != 'test':\n",
    "            continue\n",
    "        sub_dirs = os.listdir(path + d)\n",
    "        for sd in sub_dirs:\n",
    "            if sd != 'pos' and sd != 'neg':\n",
    "                continue\n",
    "            files = os.listdir( path + d + '/' + sd)\n",
    "            for x in files:\n",
    "                if '_' not in x:\n",
    "                    continue\n",
    "                with open(path + d + '/' + sd + '/' + x) as f:\n",
    "                    if d == 'train':\n",
    "                        X_train.append(text_process(f.read().replace('\\n', '')))\n",
    "                        y_train.append(sd)\n",
    "                    else:\n",
    "                        X_test.append(text_process(f.read().replace('\\n', '')))\n",
    "                        y_test.append(sd)\n",
    "                                   \n",
    "    return  X_train, y_train, X_test, y_test\n",
    "\n"
   ]
  },
  {
   "cell_type": "code",
   "execution_count": 9,
   "metadata": {},
   "outputs": [
    {
     "name": "stdout",
     "output_type": "stream",
     "text": [
      "Read the data!\n"
     ]
    }
   ],
   "source": [
    "if __name__ ==  \"__main__\":   \n",
    "    path = \"C:/Users/biyani/Documents/Machine_Learning/Yelp_Project/aclImdb/\"\n",
    "    X_train, y_train, X_test, y_test = read_data(path)\n",
    "    print(\"Read the data!\")\n",
    "    "
   ]
  },
  {
   "cell_type": "code",
   "execution_count": 87,
   "metadata": {},
   "outputs": [
    {
     "data": {
      "text/plain": [
       "25000"
      ]
     },
     "execution_count": 87,
     "metadata": {},
     "output_type": "execute_result"
    }
   ],
   "source": [
    "len(X_test)"
   ]
  },
  {
   "cell_type": "code",
   "execution_count": 94,
   "metadata": {},
   "outputs": [
    {
     "name": "stdout",
     "output_type": "stream",
     "text": [
      "('Accuracy is as follows', 80.872)\n",
      "('weighted Precision, Recall, F1 is as follows: ', (0.80872, 0.8142758826964673, 0.8078708679323536))\n"
     ]
    }
   ],
   "source": [
    "vocab = extract_vocab(X_train)\n",
    "prior, cond_prob = training(X_train,y_train,vocab)\n",
    "classes = set(y_train)\n",
    "test_pred = testing(classes, vocab, prior, cond_prob, X_test)\n",
    "\n",
    "print(\"Accuracy is as follows\", cal_accuracy(test_pred, y_test))\n",
    "print (\"weighted Precision, Recall, F1 is as follows: \", cal_evaluation(test_pred, y_test))"
   ]
  },
  {
   "cell_type": "markdown",
   "metadata": {},
   "source": [
    "#### As we can see above, using self-implemented Naive Bayes, we get an accuracy of 80.872%. "
   ]
  },
  {
   "cell_type": "markdown",
   "metadata": {},
   "source": [
    "#### Now, let's use sklearn's builtin multinomial Naive Bayes model."
   ]
  },
  {
   "cell_type": "code",
   "execution_count": 10,
   "metadata": {},
   "outputs": [
    {
     "data": {
      "text/plain": [
       "Counter({'neg': 12500, 'pos': 12500})"
      ]
     },
     "execution_count": 10,
     "metadata": {},
     "output_type": "execute_result"
    }
   ],
   "source": [
    "from collections import Counter\n",
    "Counter(y_train)\n",
    "# len(X_train)"
   ]
  },
  {
   "cell_type": "code",
   "execution_count": 11,
   "metadata": {},
   "outputs": [],
   "source": [
    "def dumb_tokenizer(t):\n",
    "    return t.split()"
   ]
  },
  {
   "cell_type": "code",
   "execution_count": 12,
   "metadata": {},
   "outputs": [],
   "source": [
    "from sklearn.feature_extraction.text import CountVectorizer, TfidfVectorizer, TfidfTransformer\n",
    "def feature_extraction(data, is_tfidf=False):    \n",
    "    count_vect = CountVectorizer(tokenizer=dumb_tokenizer, stop_words='english', ngram_range=(1,1), max_df=0.9, min_df=3)\n",
    "    X_data_counts = count_vect.fit_transform(data)\n",
    "    if is_tfidf == True:\n",
    "        tfidf_vectorizer = TfidfVectorizer(tokenizer=dumb_tokenizer, stop_words='english', ngram_range=(1,1), max_df=0.9, min_df=3)\n",
    "#         tfidf_transformer = TfidfTransformer() \n",
    "        X_data_tfidf = tfidf_vectorizer.fit_transform(data)\n",
    "        return X_data_tfidf, tfidf_vectorizer\n",
    "    return X_data_counts, count_vect"
   ]
  },
  {
   "cell_type": "code",
   "execution_count": 13,
   "metadata": {},
   "outputs": [],
   "source": [
    "# X_train_tf, tf_vectorizer = feature_extraction(X_train)\n",
    "X_train_tfidf, tfidf_vectorizer = feature_extraction(X_train, is_tfidf=True)"
   ]
  },
  {
   "cell_type": "code",
   "execution_count": 14,
   "metadata": {},
   "outputs": [
    {
     "data": {
      "text/plain": [
       "(25000, 198013)"
      ]
     },
     "execution_count": 14,
     "metadata": {},
     "output_type": "execute_result"
    }
   ],
   "source": [
    "X_train_tfidf.shape"
   ]
  },
  {
   "cell_type": "code",
   "execution_count": 15,
   "metadata": {},
   "outputs": [
    {
     "data": {
      "text/plain": [
       "(25000, 198013)"
      ]
     },
     "execution_count": 15,
     "metadata": {},
     "output_type": "execute_result"
    }
   ],
   "source": [
    "# vectorized and tfidf of test data\n",
    "# X_test_tf = tf_vectorizer.transform(X_test)\n",
    "X_test_tfidf = tfidf_vectorizer.transform(X_test)\n",
    "X_test_tfidf.shape"
   ]
  },
  {
   "cell_type": "code",
   "execution_count": 91,
   "metadata": {},
   "outputs": [],
   "source": [
    "from sklearn.naive_bayes import BernoulliNB, MultinomialNB\n",
    "from sklearn.linear_model import LogisticRegression as lr\n",
    "from sklearn.metrics import confusion_matrix, classification_report, f1_score\n",
    "\n",
    "\n",
    "def classify(X, y, X_test, y_test, classifier):\n",
    "    classifier.fit(X, y)\n",
    "    predicted = classifier.predict(X_test)\n",
    "    \n",
    "     \n",
    "    \n",
    "#     print('Classification report with MNB using tf as term encoding\\n')\n",
    "#     print(classification_report(y_test, predicted, target_names=['neg', 'pos'] , digits = 4))\n",
    "#     print(confusion_matrix(y_test, predicted))\n",
    "    \n",
    "    return f1_score(y_test, predicted, average='weighted')\n",
    "    \n"
   ]
  },
  {
   "cell_type": "code",
   "execution_count": 85,
   "metadata": {},
   "outputs": [
    {
     "name": "stdout",
     "output_type": "stream",
     "text": [
      "Classification report with MNB using tf as term encoding\n",
      "\n",
      "             precision    recall  f1-score   support\n",
      "\n",
      "        neg     0.8334    0.8857    0.8587     12500\n",
      "        pos     0.8780    0.8230    0.8496     12500\n",
      "\n",
      "avg / total     0.8557    0.8543    0.8542     25000\n",
      "\n",
      "[[11071  1429]\n",
      " [ 2213 10287]]\n"
     ]
    },
    {
     "data": {
      "text/plain": [
       "0.85417659002579016"
      ]
     },
     "execution_count": 85,
     "metadata": {},
     "output_type": "execute_result"
    }
   ],
   "source": [
    "classify(X_train_tfidf, y_train, X_test_tfidf, y_test, MultinomialNB())"
   ]
  },
  {
   "cell_type": "code",
   "execution_count": 88,
   "metadata": {},
   "outputs": [
    {
     "name": "stdout",
     "output_type": "stream",
     "text": [
      "Classification report with MNB using tf as term encoding\n",
      "\n",
      "             precision    recall  f1-score   support\n",
      "\n",
      "        neg     0.8799    0.8766    0.8783     12500\n",
      "        pos     0.8771    0.8804    0.8787     12500\n",
      "\n",
      "avg / total     0.8785    0.8785    0.8785     25000\n",
      "\n",
      "[[10958  1542]\n",
      " [ 1495 11005]]\n"
     ]
    },
    {
     "data": {
      "text/plain": [
       "0.87851957063957065"
      ]
     },
     "execution_count": 88,
     "metadata": {},
     "output_type": "execute_result"
    }
   ],
   "source": [
    "classify(X_train_tfidf, y_train, X_test_tfidf, y_test, lr())"
   ]
  },
  {
   "cell_type": "code",
   "execution_count": 24,
   "metadata": {},
   "outputs": [],
   "source": [
    "feature_names = tfidf_vectorizer.get_feature_names()"
   ]
  },
  {
   "cell_type": "code",
   "execution_count": null,
   "metadata": {},
   "outputs": [],
   "source": []
  },
  {
   "cell_type": "code",
   "execution_count": null,
   "metadata": {},
   "outputs": [],
   "source": []
  },
  {
   "cell_type": "markdown",
   "metadata": {},
   "source": [
    "###################################### Feature Selection ########################################################"
   ]
  },
  {
   "cell_type": "markdown",
   "metadata": {},
   "source": [
    "###### Feature selection, is the process of selecting a subset of relevant features (variables, predictors) for use in model construction. Feature selection is done because data contains many features that are either redundant or irrelevant, and can thus be removed without incurring much loss of information. Thus, doing feature selection results in, simplication of models, shorter training times, reducing overfitting, and avoids the curse of dimensionality. \n"
   ]
  },
  {
   "cell_type": "code",
   "execution_count": 17,
   "metadata": {},
   "outputs": [
    {
     "name": "stdout",
     "output_type": "stream",
     "text": [
      "(198013L,)\n"
     ]
    }
   ],
   "source": [
    "from sklearn.feature_selection import mutual_info_classif, SelectKBest\n",
    "mi = mutual_info_classif(X_train_tfidf, y_train)\n",
    "print(mi.shape)"
   ]
  },
  {
   "cell_type": "code",
   "execution_count": 19,
   "metadata": {},
   "outputs": [
    {
     "name": "stdout",
     "output_type": "stream",
     "text": [
      "(198013L,)\n"
     ]
    }
   ],
   "source": [
    "print(mi.shape)"
   ]
  },
  {
   "cell_type": "code",
   "execution_count": 18,
   "metadata": {},
   "outputs": [
    {
     "data": {
      "text/plain": [
       "array([ 0.00013863,  0.00016636,  0.00011091])"
      ]
     },
     "execution_count": 18,
     "metadata": {},
     "output_type": "execute_result"
    }
   ],
   "source": [
    "mi[:3]"
   ]
  },
  {
   "cell_type": "code",
   "execution_count": 20,
   "metadata": {},
   "outputs": [],
   "source": [
    "tmp = sorted(mi)"
   ]
  },
  {
   "cell_type": "code",
   "execution_count": 21,
   "metadata": {},
   "outputs": [],
   "source": [
    "import numpy as np"
   ]
  },
  {
   "cell_type": "code",
   "execution_count": 22,
   "metadata": {},
   "outputs": [
    {
     "data": {
      "text/plain": [
       "[8.3178461764182063e-05,\n",
       " 8.3178461764182063e-05,\n",
       " 8.3178461764182063e-05,\n",
       " 8.3178461764182063e-05,\n",
       " 8.3178461764182063e-05,\n",
       " 8.3178461764182063e-05,\n",
       " 8.3178461764182063e-05,\n",
       " 8.3178461764182063e-05,\n",
       " 8.3178461764182063e-05,\n",
       " 8.3178461764182063e-05]"
      ]
     },
     "execution_count": 22,
     "metadata": {},
     "output_type": "execute_result"
    }
   ],
   "source": [
    "tmp[:10]"
   ]
  },
  {
   "cell_type": "code",
   "execution_count": 25,
   "metadata": {},
   "outputs": [
    {
     "data": {
      "text/plain": [
       "198013"
      ]
     },
     "execution_count": 25,
     "metadata": {},
     "output_type": "execute_result"
    }
   ],
   "source": [
    "len(feature_names)"
   ]
  },
  {
   "cell_type": "code",
   "execution_count": 26,
   "metadata": {},
   "outputs": [],
   "source": [
    "feature_to_mi = {i:mi[i] for i in range(len(feature_names))}"
   ]
  },
  {
   "cell_type": "code",
   "execution_count": 27,
   "metadata": {},
   "outputs": [],
   "source": [
    "import operator\n",
    "feature_idx_sorted_by_mi = sorted(feature_to_mi, key=feature_to_mi.get, reverse=True)"
   ]
  },
  {
   "cell_type": "code",
   "execution_count": 28,
   "metadata": {},
   "outputs": [
    {
     "data": {
      "text/plain": [
       "[145713, 114457, 170759, 16618, 16988]"
      ]
     },
     "execution_count": 28,
     "metadata": {},
     "output_type": "execute_result"
    }
   ],
   "source": [
    "feature_idx_sorted_by_mi[0:5]"
   ]
  },
  {
   "cell_type": "code",
   "execution_count": 92,
   "metadata": {},
   "outputs": [],
   "source": [
    "k_values = [200000]\n",
    "f1_scores, num_of_features = [], []\n",
    "\n",
    "for k in range(1000, 40000, 1000):\n",
    "#     print(\"Selecting top\", k, \"features\")\n",
    "    indices = feature_idx_sorted_by_mi[:k]\n",
    "#     print(\"Transforming train!\")\n",
    "    X_new_train = X_train_tfidf[:, indices]\n",
    "#     print(\"Transforming test!\")\n",
    "    X_new_test = X_test_tfidf[:, indices]    \n",
    "    score = classify(X_new_train, y_train, X_new_test, y_test, lr())\n",
    "    \n",
    "    f1_scores.append(score)\n",
    "    num_of_features.append(k)\n",
    "    \n",
    "    \n",
    "\n",
    "    "
   ]
  },
  {
   "cell_type": "code",
   "execution_count": 93,
   "metadata": {},
   "outputs": [
    {
     "data": {
      "text/plain": [
       "[0.8501079200567806,\n",
       " 0.86257005984306923,\n",
       " 0.86725742824070995,\n",
       " 0.87070236090576048,\n",
       " 0.87198439725351229,\n",
       " 0.87302584065438438,\n",
       " 0.87334753658702446,\n",
       " 0.87422821488188218,\n",
       " 0.87483108376748864,\n",
       " 0.87527201740911409,\n",
       " 0.87547347261829822,\n",
       " 0.87623427707297186,\n",
       " 0.87579432409870495,\n",
       " 0.8759951715495915,\n",
       " 0.87655578986114657,\n",
       " 0.87679602514408161,\n",
       " 0.87719667939821089,\n",
       " 0.87711697688101853,\n",
       " 0.87731683398914462,\n",
       " 0.87759648339592944,\n",
       " 0.87759658758870729,\n",
       " 0.87767708695321955,\n",
       " 0.87783736988743855,\n",
       " 0.87759736472022354,\n",
       " 0.87807763958310248,\n",
       " 0.8781574664550944,\n",
       " 0.8781574664550944,\n",
       " 0.87827695692392294,\n",
       " 0.87835715044326357,\n",
       " 0.87867743281447841,\n",
       " 0.87875760987601792,\n",
       " 0.87863835647207855,\n",
       " 0.87859852977963515,\n",
       " 0.87871842819082924,\n",
       " 0.87891853365500994,\n",
       " 0.87887856669740694,\n",
       " 0.87899885213471074,\n",
       " 0.87891885137579173,\n",
       " 0.87871869520721035]"
      ]
     },
     "execution_count": 93,
     "metadata": {},
     "output_type": "execute_result"
    }
   ],
   "source": [
    "f1_scores"
   ]
  },
  {
   "cell_type": "code",
   "execution_count": 69,
   "metadata": {},
   "outputs": [
    {
     "data": {
      "text/plain": [
       "Text(0.5,1,'F1 score as a function of number of features')"
      ]
     },
     "execution_count": 69,
     "metadata": {},
     "output_type": "execute_result"
    },
    {
     "data": {
      "image/png": "[encoded data removed]",
      "text/plain": [
       "<Figure size 432x288 with 1 Axes>"
      ]
     },
     "metadata": {},
     "output_type": "display_data"
    }
   ],
   "source": [
    "import matplotlib.pyplot as plt\n",
    "axes = plt.gca()\n",
    "axes.set_xlim([100, 6000])\n",
    "axes.set_ylim([0.74, 0.88])\n",
    "plt.plot(num_of_features,f1_scores, color='blue' )\n",
    "classify(X_train_tfidf, y_train, X_test_tfidf, y_test, MultinomialNB())\n",
    "plt.xlabel(\"Number of Features\")\n",
    "plt.title(\"F1 score as a function of number of features\")\n"
   ]
  },
  {
   "cell_type": "markdown",
   "metadata": {},
   "source": []
  },
  {
   "cell_type": "code",
   "execution_count": null,
   "metadata": {},
   "outputs": [],
   "source": []
  }
 ],
 "metadata": {
  "kernelspec": {
   "display_name": "Python 2",
   "language": "python",
   "name": "python2"
  },
  "language_info": {
   "codemirror_mode": {
    "name": "ipython",
    "version": 2
   },
   "file_extension": ".py",
   "mimetype": "text/x-python",
   "name": "python",
   "nbconvert_exporter": "python",
   "pygments_lexer": "ipython2",
   "version": "2.7.14"
  }
 },
 "nbformat": 4,
 "nbformat_minor": 2
}
